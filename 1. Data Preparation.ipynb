{
 "cells": [
  {
   "cell_type": "markdown",
   "id": "a7cfe753",
   "metadata": {},
   "source": [
    "# 0. Libraries Importing"
   ]
  },
  {
   "cell_type": "code",
   "execution_count": 1,
   "id": "77afae67",
   "metadata": {},
   "outputs": [
    {
     "data": {
      "text/html": [
       "<style>.container { width:100% !important; }</style>"
      ],
      "text/plain": [
       "<IPython.core.display.HTML object>"
      ]
     },
     "metadata": {},
     "output_type": "display_data"
    }
   ],
   "source": [
    "# ignore warnings\n",
    "import warnings\n",
    "warnings.filterwarnings(\"ignore\")\n",
    "\n",
    "# dataframe manipulation\n",
    "import numpy as np\n",
    "import pandas as pd\n",
    "\n",
    "pd.set_option('display.max_rows', None)\n",
    "pd.set_option('display.max_columns', None)\n",
    "\n",
    "# set notebook width to 100%\n",
    "from IPython.core.display import display, HTML, Markdown\n",
    "display(HTML(\"<style>.container { width:100% !important; }</style>\"))"
   ]
  },
  {
   "cell_type": "markdown",
   "id": "14e2e018",
   "metadata": {},
   "source": [
    "# 1. Data loading"
   ]
  },
  {
   "cell_type": "code",
   "execution_count": 2,
   "id": "37df9bec",
   "metadata": {},
   "outputs": [
    {
     "data": {
      "text/html": [
       "<div>\n",
       "<style scoped>\n",
       "    .dataframe tbody tr th:only-of-type {\n",
       "        vertical-align: middle;\n",
       "    }\n",
       "\n",
       "    .dataframe tbody tr th {\n",
       "        vertical-align: top;\n",
       "    }\n",
       "\n",
       "    .dataframe thead th {\n",
       "        text-align: right;\n",
       "    }\n",
       "</style>\n",
       "<table border=\"1\" class=\"dataframe\">\n",
       "  <thead>\n",
       "    <tr style=\"text-align: right;\">\n",
       "      <th></th>\n",
       "      <th>Month</th>\n",
       "      <th>Laptops_Sale</th>\n",
       "    </tr>\n",
       "  </thead>\n",
       "  <tbody>\n",
       "    <tr>\n",
       "      <th>0</th>\n",
       "      <td>201001</td>\n",
       "      <td>932</td>\n",
       "    </tr>\n",
       "    <tr>\n",
       "      <th>1</th>\n",
       "      <td>201002</td>\n",
       "      <td>929</td>\n",
       "    </tr>\n",
       "    <tr>\n",
       "      <th>2</th>\n",
       "      <td>201003</td>\n",
       "      <td>938</td>\n",
       "    </tr>\n",
       "    <tr>\n",
       "      <th>3</th>\n",
       "      <td>201004</td>\n",
       "      <td>964</td>\n",
       "    </tr>\n",
       "    <tr>\n",
       "      <th>4</th>\n",
       "      <td>201005</td>\n",
       "      <td>990</td>\n",
       "    </tr>\n",
       "  </tbody>\n",
       "</table>\n",
       "</div>"
      ],
      "text/plain": [
       "    Month  Laptops_Sale\n",
       "0  201001           932\n",
       "1  201002           929\n",
       "2  201003           938\n",
       "3  201004           964\n",
       "4  201005           990"
      ]
     },
     "metadata": {},
     "output_type": "display_data"
    },
    {
     "name": "stdout",
     "output_type": "stream",
     "text": [
      "Shape of the initial data: (144, 2).\n"
     ]
    }
   ],
   "source": [
    "data_path = 'data/sales_initial.xlsx'\n",
    "time_column = 'Date'\n",
    "phenomenon_column = 'Laptops_Sale'\n",
    "\n",
    "### 1. Load initial Data\n",
    "df = (pd.read_excel(data_path))\n",
    "\n",
    "display(df.head())\n",
    "print(f'Shape of the initial data: {df.shape}.')"
   ]
  },
  {
   "cell_type": "markdown",
   "id": "99b4a160",
   "metadata": {},
   "source": [
    "# 2. Data preparation"
   ]
  },
  {
   "cell_type": "code",
   "execution_count": 3,
   "id": "b8f1c54a",
   "metadata": {},
   "outputs": [
    {
     "name": "stdout",
     "output_type": "stream",
     "text": [
      "\n",
      "*** Time range: 2010-01-31 - 2021-12-31 ***\n"
     ]
    },
    {
     "data": {
      "text/html": [
       "<div>\n",
       "<style scoped>\n",
       "    .dataframe tbody tr th:only-of-type {\n",
       "        vertical-align: middle;\n",
       "    }\n",
       "\n",
       "    .dataframe tbody tr th {\n",
       "        vertical-align: top;\n",
       "    }\n",
       "\n",
       "    .dataframe thead th {\n",
       "        text-align: right;\n",
       "    }\n",
       "</style>\n",
       "<table border=\"1\" class=\"dataframe\">\n",
       "  <thead>\n",
       "    <tr style=\"text-align: right;\">\n",
       "      <th></th>\n",
       "      <th>Date</th>\n",
       "      <th>Laptops_Sale</th>\n",
       "    </tr>\n",
       "  </thead>\n",
       "  <tbody>\n",
       "    <tr>\n",
       "      <th>0</th>\n",
       "      <td>2010-01-31</td>\n",
       "      <td>932</td>\n",
       "    </tr>\n",
       "    <tr>\n",
       "      <th>1</th>\n",
       "      <td>2010-02-28</td>\n",
       "      <td>929</td>\n",
       "    </tr>\n",
       "    <tr>\n",
       "      <th>2</th>\n",
       "      <td>2010-03-31</td>\n",
       "      <td>938</td>\n",
       "    </tr>\n",
       "    <tr>\n",
       "      <th>3</th>\n",
       "      <td>2010-04-30</td>\n",
       "      <td>964</td>\n",
       "    </tr>\n",
       "    <tr>\n",
       "      <th>4</th>\n",
       "      <td>2010-05-31</td>\n",
       "      <td>990</td>\n",
       "    </tr>\n",
       "  </tbody>\n",
       "</table>\n",
       "</div>"
      ],
      "text/plain": [
       "        Date  Laptops_Sale\n",
       "0 2010-01-31           932\n",
       "1 2010-02-28           929\n",
       "2 2010-03-31           938\n",
       "3 2010-04-30           964\n",
       "4 2010-05-31           990"
      ]
     },
     "metadata": {},
     "output_type": "display_data"
    },
    {
     "name": "stdout",
     "output_type": "stream",
     "text": [
      "Shape of the prepared data: (144, 2).\n"
     ]
    }
   ],
   "source": [
    "### 1. Create df_dates\n",
    "df_dates = (pd.DataFrame(data={'Date':pd.date_range(start='1/1/2010', end='31/12/2021')}))\n",
    "df_dates['Month'] = (df_dates['Date']\n",
    "                     .apply(lambda x: str(x.year) + (str(x.month) if x.month >= 10 else f'0{x.month}'))\n",
    "                     .astype(int)\n",
    "                    )\n",
    "\n",
    "df_dates = (df_dates\n",
    "            .groupby('Month')\n",
    "            .last()\n",
    "           )\n",
    "\n",
    "### 2. Replace 'Month' in df with its last day of the month\n",
    "df_tsa = (df\n",
    "          .merge(right=df_dates, how='inner', on='Month')\n",
    "          .loc[:, [time_column, phenomenon_column]]\n",
    "          .reset_index(drop=True)\n",
    "         )\n",
    "\n",
    "print('\\n*** Time range: {0} - {1} ***'.\n",
    "      format(str(df_tsa[time_column].min()).split(' ')[0],\n",
    "             str(df_tsa[time_column].max()).split(' ')[0])\n",
    "     )\n",
    "\n",
    "display(df_tsa.head())\n",
    "print(f'Shape of the prepared data: {df.shape}.')"
   ]
  },
  {
   "cell_type": "markdown",
   "id": "eb4ec2d3",
   "metadata": {},
   "source": [
    "# 3. Save prepared data"
   ]
  },
  {
   "cell_type": "code",
   "execution_count": 4,
   "id": "1d4f4629",
   "metadata": {},
   "outputs": [
    {
     "name": "stdout",
     "output_type": "stream",
     "text": [
      "Data is successfully saved!\n"
     ]
    }
   ],
   "source": [
    "df_tsa.to_csv('data/sales_prepared.csv', index=False)\n",
    "print('Data is successfully saved!')"
   ]
  }
 ],
 "metadata": {
  "kernelspec": {
   "display_name": "Python 3 (ipykernel)",
   "language": "python",
   "name": "python3"
  },
  "language_info": {
   "codemirror_mode": {
    "name": "ipython",
    "version": 3
   },
   "file_extension": ".py",
   "mimetype": "text/x-python",
   "name": "python",
   "nbconvert_exporter": "python",
   "pygments_lexer": "ipython3",
   "version": "3.10.9"
  }
 },
 "nbformat": 4,
 "nbformat_minor": 5
}
